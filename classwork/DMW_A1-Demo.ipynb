{
 "cells": [
  {
   "cell_type": "code",
   "execution_count": 41,
   "id": "51910b16",
   "metadata": {},
   "outputs": [],
   "source": [
    "import pandas as pd\n",
    "import numpy as np\n",
    "import matplotlib.pyplot as plt\n",
    "import seaborn as sns"
   ]
  },
  {
   "cell_type": "code",
   "execution_count": 42,
   "id": "018f4337",
   "metadata": {},
   "outputs": [],
   "source": [
    "df1 = pd.read_csv('Department_Dataset.csv')"
   ]
  },
  {
   "cell_type": "code",
   "execution_count": 43,
   "id": "90d11cfc",
   "metadata": {},
   "outputs": [],
   "source": [
    "df2 = pd.read_csv('Employee_Salary_Dataset.csv')"
   ]
  },
  {
   "cell_type": "code",
   "execution_count": 44,
   "id": "62af019a",
   "metadata": {},
   "outputs": [
    {
     "data": {
      "text/plain": [
       "(37, 4)"
      ]
     },
     "execution_count": 44,
     "metadata": {},
     "output_type": "execute_result"
    }
   ],
   "source": [
    "df1.shape"
   ]
  },
  {
   "cell_type": "code",
   "execution_count": 45,
   "id": "f72a61ab",
   "metadata": {},
   "outputs": [
    {
     "data": {
      "text/plain": [
       "(37, 5)"
      ]
     },
     "execution_count": 45,
     "metadata": {},
     "output_type": "execute_result"
    }
   ],
   "source": [
    "df2.shape"
   ]
  },
  {
   "cell_type": "code",
   "execution_count": 46,
   "id": "ad7809fe",
   "metadata": {},
   "outputs": [
    {
     "data": {
      "text/html": [
       "<div>\n",
       "<style scoped>\n",
       "    .dataframe tbody tr th:only-of-type {\n",
       "        vertical-align: middle;\n",
       "    }\n",
       "\n",
       "    .dataframe tbody tr th {\n",
       "        vertical-align: top;\n",
       "    }\n",
       "\n",
       "    .dataframe thead th {\n",
       "        text-align: right;\n",
       "    }\n",
       "</style>\n",
       "<table border=\"1\" class=\"dataframe\">\n",
       "  <thead>\n",
       "    <tr style=\"text-align: right;\">\n",
       "      <th></th>\n",
       "      <th>ID</th>\n",
       "      <th>Dept_name</th>\n",
       "      <th>location</th>\n",
       "      <th>travel_required</th>\n",
       "    </tr>\n",
       "  </thead>\n",
       "  <tbody>\n",
       "    <tr>\n",
       "      <th>0</th>\n",
       "      <td>1</td>\n",
       "      <td>HR</td>\n",
       "      <td>Pune</td>\n",
       "      <td>yes</td>\n",
       "    </tr>\n",
       "    <tr>\n",
       "      <th>1</th>\n",
       "      <td>2</td>\n",
       "      <td>Finance</td>\n",
       "      <td>Bangalore</td>\n",
       "      <td>no</td>\n",
       "    </tr>\n",
       "    <tr>\n",
       "      <th>2</th>\n",
       "      <td>3</td>\n",
       "      <td>Finance</td>\n",
       "      <td>Bangalore</td>\n",
       "      <td>NaN</td>\n",
       "    </tr>\n",
       "    <tr>\n",
       "      <th>3</th>\n",
       "      <td>4</td>\n",
       "      <td>Finance</td>\n",
       "      <td>Pune</td>\n",
       "      <td>no</td>\n",
       "    </tr>\n",
       "    <tr>\n",
       "      <th>4</th>\n",
       "      <td>5</td>\n",
       "      <td>TECH</td>\n",
       "      <td>Mumbai</td>\n",
       "      <td>no</td>\n",
       "    </tr>\n",
       "  </tbody>\n",
       "</table>\n",
       "</div>"
      ],
      "text/plain": [
       "   ID Dept_name   location travel_required\n",
       "0   1        HR       Pune             yes\n",
       "1   2   Finance  Bangalore              no\n",
       "2   3   Finance  Bangalore             NaN\n",
       "3   4   Finance       Pune              no\n",
       "4   5      TECH     Mumbai              no"
      ]
     },
     "execution_count": 46,
     "metadata": {},
     "output_type": "execute_result"
    }
   ],
   "source": [
    "df1.head()"
   ]
  },
  {
   "cell_type": "code",
   "execution_count": 47,
   "id": "e5941a22",
   "metadata": {},
   "outputs": [
    {
     "data": {
      "text/html": [
       "<div>\n",
       "<style scoped>\n",
       "    .dataframe tbody tr th:only-of-type {\n",
       "        vertical-align: middle;\n",
       "    }\n",
       "\n",
       "    .dataframe tbody tr th {\n",
       "        vertical-align: top;\n",
       "    }\n",
       "\n",
       "    .dataframe thead th {\n",
       "        text-align: right;\n",
       "    }\n",
       "</style>\n",
       "<table border=\"1\" class=\"dataframe\">\n",
       "  <thead>\n",
       "    <tr style=\"text-align: right;\">\n",
       "      <th></th>\n",
       "      <th>ID</th>\n",
       "      <th>Experience_Years</th>\n",
       "      <th>Age</th>\n",
       "      <th>Gender</th>\n",
       "      <th>Salary</th>\n",
       "    </tr>\n",
       "  </thead>\n",
       "  <tbody>\n",
       "    <tr>\n",
       "      <th>0</th>\n",
       "      <td>1</td>\n",
       "      <td>5</td>\n",
       "      <td>28</td>\n",
       "      <td>Female</td>\n",
       "      <td>250000</td>\n",
       "    </tr>\n",
       "    <tr>\n",
       "      <th>1</th>\n",
       "      <td>2</td>\n",
       "      <td>1</td>\n",
       "      <td>521</td>\n",
       "      <td>Male</td>\n",
       "      <td>50000</td>\n",
       "    </tr>\n",
       "    <tr>\n",
       "      <th>2</th>\n",
       "      <td>3</td>\n",
       "      <td>3</td>\n",
       "      <td>23</td>\n",
       "      <td>Female</td>\n",
       "      <td>170000</td>\n",
       "    </tr>\n",
       "    <tr>\n",
       "      <th>3</th>\n",
       "      <td>4</td>\n",
       "      <td>2</td>\n",
       "      <td>22</td>\n",
       "      <td>Male</td>\n",
       "      <td>25000</td>\n",
       "    </tr>\n",
       "    <tr>\n",
       "      <th>4</th>\n",
       "      <td>5</td>\n",
       "      <td>1</td>\n",
       "      <td>17</td>\n",
       "      <td>Male</td>\n",
       "      <td>10000</td>\n",
       "    </tr>\n",
       "  </tbody>\n",
       "</table>\n",
       "</div>"
      ],
      "text/plain": [
       "   ID  Experience_Years  Age  Gender  Salary\n",
       "0   1                 5   28  Female  250000\n",
       "1   2                 1  521    Male   50000\n",
       "2   3                 3   23  Female  170000\n",
       "3   4                 2   22    Male   25000\n",
       "4   5                 1   17    Male   10000"
      ]
     },
     "execution_count": 47,
     "metadata": {},
     "output_type": "execute_result"
    }
   ],
   "source": [
    "df2.head()"
   ]
  },
  {
   "cell_type": "code",
   "execution_count": 48,
   "id": "61e14ddd",
   "metadata": {},
   "outputs": [],
   "source": [
    "df=pd.merge(df1,df2,on='ID',how=\"right\")"
   ]
  },
  {
   "cell_type": "code",
   "execution_count": 49,
   "id": "1030d61a",
   "metadata": {},
   "outputs": [
    {
     "data": {
      "text/html": [
       "<div>\n",
       "<style scoped>\n",
       "    .dataframe tbody tr th:only-of-type {\n",
       "        vertical-align: middle;\n",
       "    }\n",
       "\n",
       "    .dataframe tbody tr th {\n",
       "        vertical-align: top;\n",
       "    }\n",
       "\n",
       "    .dataframe thead th {\n",
       "        text-align: right;\n",
       "    }\n",
       "</style>\n",
       "<table border=\"1\" class=\"dataframe\">\n",
       "  <thead>\n",
       "    <tr style=\"text-align: right;\">\n",
       "      <th></th>\n",
       "      <th>ID</th>\n",
       "      <th>Dept_name</th>\n",
       "      <th>location</th>\n",
       "      <th>travel_required</th>\n",
       "      <th>Experience_Years</th>\n",
       "      <th>Age</th>\n",
       "      <th>Gender</th>\n",
       "      <th>Salary</th>\n",
       "    </tr>\n",
       "  </thead>\n",
       "  <tbody>\n",
       "    <tr>\n",
       "      <th>0</th>\n",
       "      <td>1</td>\n",
       "      <td>HR</td>\n",
       "      <td>Pune</td>\n",
       "      <td>yes</td>\n",
       "      <td>5</td>\n",
       "      <td>28</td>\n",
       "      <td>Female</td>\n",
       "      <td>250000</td>\n",
       "    </tr>\n",
       "    <tr>\n",
       "      <th>1</th>\n",
       "      <td>2</td>\n",
       "      <td>Finance</td>\n",
       "      <td>Bangalore</td>\n",
       "      <td>no</td>\n",
       "      <td>1</td>\n",
       "      <td>521</td>\n",
       "      <td>Male</td>\n",
       "      <td>50000</td>\n",
       "    </tr>\n",
       "    <tr>\n",
       "      <th>2</th>\n",
       "      <td>3</td>\n",
       "      <td>Finance</td>\n",
       "      <td>Bangalore</td>\n",
       "      <td>NaN</td>\n",
       "      <td>3</td>\n",
       "      <td>23</td>\n",
       "      <td>Female</td>\n",
       "      <td>170000</td>\n",
       "    </tr>\n",
       "    <tr>\n",
       "      <th>3</th>\n",
       "      <td>4</td>\n",
       "      <td>Finance</td>\n",
       "      <td>Pune</td>\n",
       "      <td>no</td>\n",
       "      <td>2</td>\n",
       "      <td>22</td>\n",
       "      <td>Male</td>\n",
       "      <td>25000</td>\n",
       "    </tr>\n",
       "    <tr>\n",
       "      <th>4</th>\n",
       "      <td>5</td>\n",
       "      <td>TECH</td>\n",
       "      <td>Mumbai</td>\n",
       "      <td>no</td>\n",
       "      <td>1</td>\n",
       "      <td>17</td>\n",
       "      <td>Male</td>\n",
       "      <td>10000</td>\n",
       "    </tr>\n",
       "    <tr>\n",
       "      <th>5</th>\n",
       "      <td>6</td>\n",
       "      <td>Tech</td>\n",
       "      <td>Pune</td>\n",
       "      <td>no</td>\n",
       "      <td>25</td>\n",
       "      <td>62</td>\n",
       "      <td>Male</td>\n",
       "      <td>5001000</td>\n",
       "    </tr>\n",
       "    <tr>\n",
       "      <th>6</th>\n",
       "      <td>7</td>\n",
       "      <td>Tech</td>\n",
       "      <td>Bangalore</td>\n",
       "      <td>yes</td>\n",
       "      <td>19</td>\n",
       "      <td>54</td>\n",
       "      <td>Female</td>\n",
       "      <td>800000</td>\n",
       "    </tr>\n",
       "    <tr>\n",
       "      <th>7</th>\n",
       "      <td>7</td>\n",
       "      <td>Tech</td>\n",
       "      <td>Bangalore</td>\n",
       "      <td>yes</td>\n",
       "      <td>19</td>\n",
       "      <td>54</td>\n",
       "      <td>Female</td>\n",
       "      <td>800000</td>\n",
       "    </tr>\n",
       "    <tr>\n",
       "      <th>8</th>\n",
       "      <td>7</td>\n",
       "      <td>Tech</td>\n",
       "      <td>Bangalore</td>\n",
       "      <td>yes</td>\n",
       "      <td>19</td>\n",
       "      <td>54</td>\n",
       "      <td>Female</td>\n",
       "      <td>800000</td>\n",
       "    </tr>\n",
       "    <tr>\n",
       "      <th>9</th>\n",
       "      <td>7</td>\n",
       "      <td>Tech</td>\n",
       "      <td>Bangalore</td>\n",
       "      <td>yes</td>\n",
       "      <td>19</td>\n",
       "      <td>54</td>\n",
       "      <td>Female</td>\n",
       "      <td>800000</td>\n",
       "    </tr>\n",
       "    <tr>\n",
       "      <th>10</th>\n",
       "      <td>8</td>\n",
       "      <td>HR</td>\n",
       "      <td>Bangalore</td>\n",
       "      <td>no</td>\n",
       "      <td>2</td>\n",
       "      <td>21</td>\n",
       "      <td>Female</td>\n",
       "      <td>9000</td>\n",
       "    </tr>\n",
       "    <tr>\n",
       "      <th>11</th>\n",
       "      <td>9</td>\n",
       "      <td>HR</td>\n",
       "      <td>Pune</td>\n",
       "      <td>no</td>\n",
       "      <td>10</td>\n",
       "      <td>36</td>\n",
       "      <td>Female</td>\n",
       "      <td>61500</td>\n",
       "    </tr>\n",
       "    <tr>\n",
       "      <th>12</th>\n",
       "      <td>10</td>\n",
       "      <td>HR</td>\n",
       "      <td>Pune</td>\n",
       "      <td>no</td>\n",
       "      <td>15</td>\n",
       "      <td>54</td>\n",
       "      <td>Female</td>\n",
       "      <td>650000</td>\n",
       "    </tr>\n",
       "    <tr>\n",
       "      <th>13</th>\n",
       "      <td>11</td>\n",
       "      <td>HR</td>\n",
       "      <td>Mumbai</td>\n",
       "      <td>NaN</td>\n",
       "      <td>4</td>\n",
       "      <td>26</td>\n",
       "      <td>Female</td>\n",
       "      <td>250000</td>\n",
       "    </tr>\n",
       "    <tr>\n",
       "      <th>14</th>\n",
       "      <td>12</td>\n",
       "      <td>HR</td>\n",
       "      <td>Mumbai</td>\n",
       "      <td>yes</td>\n",
       "      <td>6</td>\n",
       "      <td>29</td>\n",
       "      <td>Male</td>\n",
       "      <td>1400000</td>\n",
       "    </tr>\n",
       "    <tr>\n",
       "      <th>15</th>\n",
       "      <td>13</td>\n",
       "      <td>Finance</td>\n",
       "      <td>Bangalore</td>\n",
       "      <td>NaN</td>\n",
       "      <td>14</td>\n",
       "      <td>39</td>\n",
       "      <td>Male</td>\n",
       "      <td>6000050</td>\n",
       "    </tr>\n",
       "    <tr>\n",
       "      <th>16</th>\n",
       "      <td>14</td>\n",
       "      <td>Tech</td>\n",
       "      <td>Bangalore</td>\n",
       "      <td>yes</td>\n",
       "      <td>11</td>\n",
       "      <td>40</td>\n",
       "      <td>Male</td>\n",
       "      <td>220100</td>\n",
       "    </tr>\n",
       "    <tr>\n",
       "      <th>17</th>\n",
       "      <td>15</td>\n",
       "      <td>Tech</td>\n",
       "      <td>Mumbai</td>\n",
       "      <td>yes</td>\n",
       "      <td>2</td>\n",
       "      <td>800</td>\n",
       "      <td>Male</td>\n",
       "      <td>7500</td>\n",
       "    </tr>\n",
       "    <tr>\n",
       "      <th>18</th>\n",
       "      <td>16</td>\n",
       "      <td>tech</td>\n",
       "      <td>Pune</td>\n",
       "      <td>yes</td>\n",
       "      <td>4</td>\n",
       "      <td>27</td>\n",
       "      <td>Female</td>\n",
       "      <td>87000</td>\n",
       "    </tr>\n",
       "    <tr>\n",
       "      <th>19</th>\n",
       "      <td>17</td>\n",
       "      <td>Tech</td>\n",
       "      <td>Bangalore</td>\n",
       "      <td>no</td>\n",
       "      <td>10</td>\n",
       "      <td>34</td>\n",
       "      <td>Female</td>\n",
       "      <td>930000</td>\n",
       "    </tr>\n",
       "    <tr>\n",
       "      <th>20</th>\n",
       "      <td>18</td>\n",
       "      <td>Finance</td>\n",
       "      <td>Mumbai</td>\n",
       "      <td>no</td>\n",
       "      <td>15</td>\n",
       "      <td>54</td>\n",
       "      <td>Female</td>\n",
       "      <td>7900000</td>\n",
       "    </tr>\n",
       "    <tr>\n",
       "      <th>21</th>\n",
       "      <td>19</td>\n",
       "      <td>HR</td>\n",
       "      <td>Mumbai</td>\n",
       "      <td>no</td>\n",
       "      <td>2</td>\n",
       "      <td>21</td>\n",
       "      <td>Male</td>\n",
       "      <td>15000</td>\n",
       "    </tr>\n",
       "    <tr>\n",
       "      <th>22</th>\n",
       "      <td>20</td>\n",
       "      <td>Finance</td>\n",
       "      <td>Bangalore</td>\n",
       "      <td>no</td>\n",
       "      <td>10</td>\n",
       "      <td>36</td>\n",
       "      <td>Male</td>\n",
       "      <td>330000</td>\n",
       "    </tr>\n",
       "    <tr>\n",
       "      <th>23</th>\n",
       "      <td>21</td>\n",
       "      <td>Tech</td>\n",
       "      <td>Mumbai</td>\n",
       "      <td>no</td>\n",
       "      <td>15</td>\n",
       "      <td>54</td>\n",
       "      <td>Male</td>\n",
       "      <td>6570000</td>\n",
       "    </tr>\n",
       "    <tr>\n",
       "      <th>24</th>\n",
       "      <td>22</td>\n",
       "      <td>tech</td>\n",
       "      <td>Mumbai</td>\n",
       "      <td>yes</td>\n",
       "      <td>4</td>\n",
       "      <td>26</td>\n",
       "      <td>Male</td>\n",
       "      <td>25000</td>\n",
       "    </tr>\n",
       "    <tr>\n",
       "      <th>25</th>\n",
       "      <td>23</td>\n",
       "      <td>Tech</td>\n",
       "      <td>Mumbai</td>\n",
       "      <td>no</td>\n",
       "      <td>5</td>\n",
       "      <td>29</td>\n",
       "      <td>Male</td>\n",
       "      <td>6845000</td>\n",
       "    </tr>\n",
       "    <tr>\n",
       "      <th>26</th>\n",
       "      <td>24</td>\n",
       "      <td>Tech</td>\n",
       "      <td>Pune</td>\n",
       "      <td>NaN</td>\n",
       "      <td>1</td>\n",
       "      <td>21</td>\n",
       "      <td>Female</td>\n",
       "      <td>6000</td>\n",
       "    </tr>\n",
       "    <tr>\n",
       "      <th>27</th>\n",
       "      <td>25</td>\n",
       "      <td>Finance</td>\n",
       "      <td>Pune</td>\n",
       "      <td>yes</td>\n",
       "      <td>4</td>\n",
       "      <td>23</td>\n",
       "      <td>Female</td>\n",
       "      <td>8900</td>\n",
       "    </tr>\n",
       "    <tr>\n",
       "      <th>28</th>\n",
       "      <td>25</td>\n",
       "      <td>Finance</td>\n",
       "      <td>Pune</td>\n",
       "      <td>yes</td>\n",
       "      <td>4</td>\n",
       "      <td>23</td>\n",
       "      <td>Female</td>\n",
       "      <td>8900</td>\n",
       "    </tr>\n",
       "    <tr>\n",
       "      <th>29</th>\n",
       "      <td>25</td>\n",
       "      <td>Finance</td>\n",
       "      <td>Pune</td>\n",
       "      <td>yes</td>\n",
       "      <td>4</td>\n",
       "      <td>23</td>\n",
       "      <td>Female</td>\n",
       "      <td>8900</td>\n",
       "    </tr>\n",
       "    <tr>\n",
       "      <th>30</th>\n",
       "      <td>25</td>\n",
       "      <td>Finance</td>\n",
       "      <td>Pune</td>\n",
       "      <td>yes</td>\n",
       "      <td>4</td>\n",
       "      <td>23</td>\n",
       "      <td>Female</td>\n",
       "      <td>8900</td>\n",
       "    </tr>\n",
       "    <tr>\n",
       "      <th>31</th>\n",
       "      <td>26</td>\n",
       "      <td>HR</td>\n",
       "      <td>Pune</td>\n",
       "      <td>no</td>\n",
       "      <td>3</td>\n",
       "      <td>22</td>\n",
       "      <td>Female</td>\n",
       "      <td>20000</td>\n",
       "    </tr>\n",
       "    <tr>\n",
       "      <th>32</th>\n",
       "      <td>27</td>\n",
       "      <td>HR</td>\n",
       "      <td>Bangalore</td>\n",
       "      <td>no</td>\n",
       "      <td>1</td>\n",
       "      <td>18</td>\n",
       "      <td>Male</td>\n",
       "      <td>3000</td>\n",
       "    </tr>\n",
       "    <tr>\n",
       "      <th>33</th>\n",
       "      <td>28</td>\n",
       "      <td>HR</td>\n",
       "      <td>Bangalore</td>\n",
       "      <td>NaN</td>\n",
       "      <td>27</td>\n",
       "      <td>62</td>\n",
       "      <td>Female</td>\n",
       "      <td>10000000</td>\n",
       "    </tr>\n",
       "    <tr>\n",
       "      <th>34</th>\n",
       "      <td>29</td>\n",
       "      <td>Finance</td>\n",
       "      <td>Bangalore</td>\n",
       "      <td>no</td>\n",
       "      <td>19</td>\n",
       "      <td>54</td>\n",
       "      <td>Female</td>\n",
       "      <td>5000000</td>\n",
       "    </tr>\n",
       "    <tr>\n",
       "      <th>35</th>\n",
       "      <td>30</td>\n",
       "      <td>Finance</td>\n",
       "      <td>Mumbai</td>\n",
       "      <td>no</td>\n",
       "      <td>2</td>\n",
       "      <td>21</td>\n",
       "      <td>Female</td>\n",
       "      <td>6100</td>\n",
       "    </tr>\n",
       "    <tr>\n",
       "      <th>36</th>\n",
       "      <td>31</td>\n",
       "      <td>Tech</td>\n",
       "      <td>Mumbai</td>\n",
       "      <td>no</td>\n",
       "      <td>10</td>\n",
       "      <td>34</td>\n",
       "      <td>Male</td>\n",
       "      <td>80000</td>\n",
       "    </tr>\n",
       "    <tr>\n",
       "      <th>37</th>\n",
       "      <td>32</td>\n",
       "      <td>Tech</td>\n",
       "      <td>Pune</td>\n",
       "      <td>yes</td>\n",
       "      <td>15</td>\n",
       "      <td>54</td>\n",
       "      <td>Male</td>\n",
       "      <td>900000</td>\n",
       "    </tr>\n",
       "    <tr>\n",
       "      <th>38</th>\n",
       "      <td>33</td>\n",
       "      <td>HR</td>\n",
       "      <td>Mumbai</td>\n",
       "      <td>yes</td>\n",
       "      <td>20</td>\n",
       "      <td>55</td>\n",
       "      <td>Female</td>\n",
       "      <td>1540000</td>\n",
       "    </tr>\n",
       "    <tr>\n",
       "      <th>39</th>\n",
       "      <td>34</td>\n",
       "      <td>HR</td>\n",
       "      <td>Bangalore</td>\n",
       "      <td>yes</td>\n",
       "      <td>19</td>\n",
       "      <td>53</td>\n",
       "      <td>Female</td>\n",
       "      <td>9300000</td>\n",
       "    </tr>\n",
       "    <tr>\n",
       "      <th>40</th>\n",
       "      <td>35</td>\n",
       "      <td>Tech</td>\n",
       "      <td>Bangalore</td>\n",
       "      <td>no</td>\n",
       "      <td>16</td>\n",
       "      <td>900</td>\n",
       "      <td>Male</td>\n",
       "      <td>7600000</td>\n",
       "    </tr>\n",
       "  </tbody>\n",
       "</table>\n",
       "</div>"
      ],
      "text/plain": [
       "    ID Dept_name   location travel_required  Experience_Years  Age  Gender  \\\n",
       "0    1        HR       Pune             yes                 5   28  Female   \n",
       "1    2   Finance  Bangalore              no                 1  521    Male   \n",
       "2    3   Finance  Bangalore             NaN                 3   23  Female   \n",
       "3    4   Finance       Pune              no                 2   22    Male   \n",
       "4    5      TECH     Mumbai              no                 1   17    Male   \n",
       "5    6      Tech       Pune              no                25   62    Male   \n",
       "6    7      Tech  Bangalore             yes                19   54  Female   \n",
       "7    7      Tech  Bangalore             yes                19   54  Female   \n",
       "8    7      Tech  Bangalore             yes                19   54  Female   \n",
       "9    7      Tech  Bangalore             yes                19   54  Female   \n",
       "10   8        HR  Bangalore              no                 2   21  Female   \n",
       "11   9        HR       Pune              no                10   36  Female   \n",
       "12  10        HR       Pune              no                15   54  Female   \n",
       "13  11        HR     Mumbai             NaN                 4   26  Female   \n",
       "14  12        HR     Mumbai             yes                 6   29    Male   \n",
       "15  13   Finance  Bangalore             NaN                14   39    Male   \n",
       "16  14      Tech  Bangalore             yes                11   40    Male   \n",
       "17  15      Tech     Mumbai             yes                 2  800    Male   \n",
       "18  16      tech       Pune             yes                 4   27  Female   \n",
       "19  17      Tech  Bangalore              no                10   34  Female   \n",
       "20  18   Finance     Mumbai              no                15   54  Female   \n",
       "21  19        HR     Mumbai              no                 2   21    Male   \n",
       "22  20   Finance  Bangalore              no                10   36    Male   \n",
       "23  21      Tech     Mumbai              no                15   54    Male   \n",
       "24  22      tech     Mumbai             yes                 4   26    Male   \n",
       "25  23      Tech     Mumbai              no                 5   29    Male   \n",
       "26  24      Tech       Pune             NaN                 1   21  Female   \n",
       "27  25   Finance       Pune             yes                 4   23  Female   \n",
       "28  25   Finance       Pune             yes                 4   23  Female   \n",
       "29  25   Finance       Pune             yes                 4   23  Female   \n",
       "30  25   Finance       Pune             yes                 4   23  Female   \n",
       "31  26        HR       Pune              no                 3   22  Female   \n",
       "32  27        HR  Bangalore              no                 1   18    Male   \n",
       "33  28        HR  Bangalore             NaN                27   62  Female   \n",
       "34  29   Finance  Bangalore              no                19   54  Female   \n",
       "35  30   Finance     Mumbai              no                 2   21  Female   \n",
       "36  31      Tech     Mumbai              no                10   34    Male   \n",
       "37  32      Tech       Pune             yes                15   54    Male   \n",
       "38  33        HR     Mumbai             yes                20   55  Female   \n",
       "39  34        HR  Bangalore             yes                19   53  Female   \n",
       "40  35      Tech  Bangalore              no                16  900    Male   \n",
       "\n",
       "      Salary  \n",
       "0     250000  \n",
       "1      50000  \n",
       "2     170000  \n",
       "3      25000  \n",
       "4      10000  \n",
       "5    5001000  \n",
       "6     800000  \n",
       "7     800000  \n",
       "8     800000  \n",
       "9     800000  \n",
       "10      9000  \n",
       "11     61500  \n",
       "12    650000  \n",
       "13    250000  \n",
       "14   1400000  \n",
       "15   6000050  \n",
       "16    220100  \n",
       "17      7500  \n",
       "18     87000  \n",
       "19    930000  \n",
       "20   7900000  \n",
       "21     15000  \n",
       "22    330000  \n",
       "23   6570000  \n",
       "24     25000  \n",
       "25   6845000  \n",
       "26      6000  \n",
       "27      8900  \n",
       "28      8900  \n",
       "29      8900  \n",
       "30      8900  \n",
       "31     20000  \n",
       "32      3000  \n",
       "33  10000000  \n",
       "34   5000000  \n",
       "35      6100  \n",
       "36     80000  \n",
       "37    900000  \n",
       "38   1540000  \n",
       "39   9300000  \n",
       "40   7600000  "
      ]
     },
     "execution_count": 49,
     "metadata": {},
     "output_type": "execute_result"
    }
   ],
   "source": [
    "df"
   ]
  },
  {
   "cell_type": "code",
   "execution_count": 50,
   "id": "4f61edcd",
   "metadata": {},
   "outputs": [
    {
     "data": {
      "text/plain": [
       "(41, 8)"
      ]
     },
     "execution_count": 50,
     "metadata": {},
     "output_type": "execute_result"
    }
   ],
   "source": [
    "df.shape"
   ]
  },
  {
   "cell_type": "code",
   "execution_count": 51,
   "id": "29312148",
   "metadata": {},
   "outputs": [
    {
     "data": {
      "text/html": [
       "<div>\n",
       "<style scoped>\n",
       "    .dataframe tbody tr th:only-of-type {\n",
       "        vertical-align: middle;\n",
       "    }\n",
       "\n",
       "    .dataframe tbody tr th {\n",
       "        vertical-align: top;\n",
       "    }\n",
       "\n",
       "    .dataframe thead th {\n",
       "        text-align: right;\n",
       "    }\n",
       "</style>\n",
       "<table border=\"1\" class=\"dataframe\">\n",
       "  <thead>\n",
       "    <tr style=\"text-align: right;\">\n",
       "      <th></th>\n",
       "      <th>ID</th>\n",
       "      <th>Experience_Years</th>\n",
       "      <th>Age</th>\n",
       "      <th>Salary</th>\n",
       "    </tr>\n",
       "  </thead>\n",
       "  <tbody>\n",
       "    <tr>\n",
       "      <th>count</th>\n",
       "      <td>41.000000</td>\n",
       "      <td>41.000000</td>\n",
       "      <td>41.000000</td>\n",
       "      <td>4.100000e+01</td>\n",
       "    </tr>\n",
       "    <tr>\n",
       "      <th>mean</th>\n",
       "      <td>17.707317</td>\n",
       "      <td>9.536585</td>\n",
       "      <td>87.829268</td>\n",
       "      <td>1.816996e+06</td>\n",
       "    </tr>\n",
       "    <tr>\n",
       "      <th>std</th>\n",
       "      <td>10.095157</td>\n",
       "      <td>7.589788</td>\n",
       "      <td>191.278318</td>\n",
       "      <td>2.986018e+06</td>\n",
       "    </tr>\n",
       "    <tr>\n",
       "      <th>min</th>\n",
       "      <td>1.000000</td>\n",
       "      <td>1.000000</td>\n",
       "      <td>17.000000</td>\n",
       "      <td>3.000000e+03</td>\n",
       "    </tr>\n",
       "    <tr>\n",
       "      <th>25%</th>\n",
       "      <td>8.000000</td>\n",
       "      <td>3.000000</td>\n",
       "      <td>23.000000</td>\n",
       "      <td>1.500000e+04</td>\n",
       "    </tr>\n",
       "    <tr>\n",
       "      <th>50%</th>\n",
       "      <td>18.000000</td>\n",
       "      <td>6.000000</td>\n",
       "      <td>34.000000</td>\n",
       "      <td>2.500000e+05</td>\n",
       "    </tr>\n",
       "    <tr>\n",
       "      <th>75%</th>\n",
       "      <td>25.000000</td>\n",
       "      <td>15.000000</td>\n",
       "      <td>54.000000</td>\n",
       "      <td>1.400000e+06</td>\n",
       "    </tr>\n",
       "    <tr>\n",
       "      <th>max</th>\n",
       "      <td>35.000000</td>\n",
       "      <td>27.000000</td>\n",
       "      <td>900.000000</td>\n",
       "      <td>1.000000e+07</td>\n",
       "    </tr>\n",
       "  </tbody>\n",
       "</table>\n",
       "</div>"
      ],
      "text/plain": [
       "              ID  Experience_Years         Age        Salary\n",
       "count  41.000000         41.000000   41.000000  4.100000e+01\n",
       "mean   17.707317          9.536585   87.829268  1.816996e+06\n",
       "std    10.095157          7.589788  191.278318  2.986018e+06\n",
       "min     1.000000          1.000000   17.000000  3.000000e+03\n",
       "25%     8.000000          3.000000   23.000000  1.500000e+04\n",
       "50%    18.000000          6.000000   34.000000  2.500000e+05\n",
       "75%    25.000000         15.000000   54.000000  1.400000e+06\n",
       "max    35.000000         27.000000  900.000000  1.000000e+07"
      ]
     },
     "execution_count": 51,
     "metadata": {},
     "output_type": "execute_result"
    }
   ],
   "source": [
    "df.describe()"
   ]
  },
  {
   "cell_type": "code",
   "execution_count": 52,
   "id": "3d727608",
   "metadata": {},
   "outputs": [
    {
     "data": {
      "text/plain": [
       "ID                   int64\n",
       "Dept_name           object\n",
       "location            object\n",
       "travel_required     object\n",
       "Experience_Years     int64\n",
       "Age                  int64\n",
       "Gender              object\n",
       "Salary               int64\n",
       "dtype: object"
      ]
     },
     "execution_count": 52,
     "metadata": {},
     "output_type": "execute_result"
    }
   ],
   "source": [
    "df.dtypes"
   ]
  },
  {
   "cell_type": "code",
   "execution_count": 53,
   "id": "d486f605",
   "metadata": {},
   "outputs": [
    {
     "data": {
      "text/plain": [
       "0     False\n",
       "1     False\n",
       "2     False\n",
       "3     False\n",
       "4     False\n",
       "5     False\n",
       "6     False\n",
       "7      True\n",
       "8      True\n",
       "9      True\n",
       "10    False\n",
       "11    False\n",
       "12    False\n",
       "13    False\n",
       "14    False\n",
       "15    False\n",
       "16    False\n",
       "17    False\n",
       "18    False\n",
       "19    False\n",
       "20    False\n",
       "21    False\n",
       "22    False\n",
       "23    False\n",
       "24    False\n",
       "25    False\n",
       "26    False\n",
       "27    False\n",
       "28     True\n",
       "29     True\n",
       "30     True\n",
       "31    False\n",
       "32    False\n",
       "33    False\n",
       "34    False\n",
       "35    False\n",
       "36    False\n",
       "37    False\n",
       "38    False\n",
       "39    False\n",
       "40    False\n",
       "dtype: bool"
      ]
     },
     "execution_count": 53,
     "metadata": {},
     "output_type": "execute_result"
    }
   ],
   "source": [
    "df.duplicated()"
   ]
  },
  {
   "cell_type": "code",
   "execution_count": 54,
   "id": "a8d337da",
   "metadata": {},
   "outputs": [
    {
     "data": {
      "text/html": [
       "<div>\n",
       "<style scoped>\n",
       "    .dataframe tbody tr th:only-of-type {\n",
       "        vertical-align: middle;\n",
       "    }\n",
       "\n",
       "    .dataframe tbody tr th {\n",
       "        vertical-align: top;\n",
       "    }\n",
       "\n",
       "    .dataframe thead th {\n",
       "        text-align: right;\n",
       "    }\n",
       "</style>\n",
       "<table border=\"1\" class=\"dataframe\">\n",
       "  <thead>\n",
       "    <tr style=\"text-align: right;\">\n",
       "      <th></th>\n",
       "      <th>ID</th>\n",
       "      <th>Dept_name</th>\n",
       "      <th>location</th>\n",
       "      <th>travel_required</th>\n",
       "      <th>Experience_Years</th>\n",
       "      <th>Age</th>\n",
       "      <th>Gender</th>\n",
       "      <th>Salary</th>\n",
       "    </tr>\n",
       "  </thead>\n",
       "  <tbody>\n",
       "    <tr>\n",
       "      <th>7</th>\n",
       "      <td>7</td>\n",
       "      <td>Tech</td>\n",
       "      <td>Bangalore</td>\n",
       "      <td>yes</td>\n",
       "      <td>19</td>\n",
       "      <td>54</td>\n",
       "      <td>Female</td>\n",
       "      <td>800000</td>\n",
       "    </tr>\n",
       "    <tr>\n",
       "      <th>8</th>\n",
       "      <td>7</td>\n",
       "      <td>Tech</td>\n",
       "      <td>Bangalore</td>\n",
       "      <td>yes</td>\n",
       "      <td>19</td>\n",
       "      <td>54</td>\n",
       "      <td>Female</td>\n",
       "      <td>800000</td>\n",
       "    </tr>\n",
       "    <tr>\n",
       "      <th>9</th>\n",
       "      <td>7</td>\n",
       "      <td>Tech</td>\n",
       "      <td>Bangalore</td>\n",
       "      <td>yes</td>\n",
       "      <td>19</td>\n",
       "      <td>54</td>\n",
       "      <td>Female</td>\n",
       "      <td>800000</td>\n",
       "    </tr>\n",
       "    <tr>\n",
       "      <th>28</th>\n",
       "      <td>25</td>\n",
       "      <td>Finance</td>\n",
       "      <td>Pune</td>\n",
       "      <td>yes</td>\n",
       "      <td>4</td>\n",
       "      <td>23</td>\n",
       "      <td>Female</td>\n",
       "      <td>8900</td>\n",
       "    </tr>\n",
       "    <tr>\n",
       "      <th>29</th>\n",
       "      <td>25</td>\n",
       "      <td>Finance</td>\n",
       "      <td>Pune</td>\n",
       "      <td>yes</td>\n",
       "      <td>4</td>\n",
       "      <td>23</td>\n",
       "      <td>Female</td>\n",
       "      <td>8900</td>\n",
       "    </tr>\n",
       "    <tr>\n",
       "      <th>30</th>\n",
       "      <td>25</td>\n",
       "      <td>Finance</td>\n",
       "      <td>Pune</td>\n",
       "      <td>yes</td>\n",
       "      <td>4</td>\n",
       "      <td>23</td>\n",
       "      <td>Female</td>\n",
       "      <td>8900</td>\n",
       "    </tr>\n",
       "  </tbody>\n",
       "</table>\n",
       "</div>"
      ],
      "text/plain": [
       "    ID Dept_name   location travel_required  Experience_Years  Age  Gender  \\\n",
       "7    7      Tech  Bangalore             yes                19   54  Female   \n",
       "8    7      Tech  Bangalore             yes                19   54  Female   \n",
       "9    7      Tech  Bangalore             yes                19   54  Female   \n",
       "28  25   Finance       Pune             yes                 4   23  Female   \n",
       "29  25   Finance       Pune             yes                 4   23  Female   \n",
       "30  25   Finance       Pune             yes                 4   23  Female   \n",
       "\n",
       "    Salary  \n",
       "7   800000  \n",
       "8   800000  \n",
       "9   800000  \n",
       "28    8900  \n",
       "29    8900  \n",
       "30    8900  "
      ]
     },
     "execution_count": 54,
     "metadata": {},
     "output_type": "execute_result"
    }
   ],
   "source": [
    "#Get duplicate records\n",
    "df[df.duplicated(keep='first')]"
   ]
  },
  {
   "cell_type": "code",
   "execution_count": 55,
   "id": "f7e46495",
   "metadata": {},
   "outputs": [
    {
     "name": "stdout",
     "output_type": "stream",
     "text": [
      "no of records before removing duplicates 41\n",
      "no of records after removing duplicates 35\n"
     ]
    }
   ],
   "source": [
    "print('no of records before removing duplicates', df.shape[0])\n",
    "\n",
    "#Remove duplicates\n",
    "df.drop_duplicates(keep='first', inplace=True)\n",
    "print('no of records after removing duplicates', df.shape[0])"
   ]
  },
  {
   "cell_type": "code",
   "execution_count": 56,
   "id": "d3e686d1",
   "metadata": {},
   "outputs": [
    {
     "data": {
      "text/plain": [
       "ID                  0\n",
       "Dept_name           0\n",
       "location            0\n",
       "travel_required     5\n",
       "Experience_Years    0\n",
       "Age                 0\n",
       "Gender              0\n",
       "Salary              0\n",
       "dtype: int64"
      ]
     },
     "execution_count": 56,
     "metadata": {},
     "output_type": "execute_result"
    }
   ],
   "source": [
    "df.isnull().sum()"
   ]
  },
  {
   "cell_type": "code",
   "execution_count": 57,
   "id": "4280ff44",
   "metadata": {},
   "outputs": [
    {
     "data": {
      "text/plain": [
       "<AxesSubplot:>"
      ]
     },
     "execution_count": 57,
     "metadata": {},
     "output_type": "execute_result"
    },
    {
     "data": {
      "image/png": "[encoded data removed]",
      "text/plain": [
       "<Figure size 432x288 with 1 Axes>"
      ]
     },
     "metadata": {
      "needs_background": "light"
     },
     "output_type": "display_data"
    }
   ],
   "source": [
    "df.boxplot()"
   ]
  },
  {
   "cell_type": "code",
   "execution_count": 58,
   "id": "49bb105b",
   "metadata": {},
   "outputs": [],
   "source": [
    "def outlier_treatment(datacolumn):\n",
    " sorted(datacolumn)\n",
    " Q1,Q3 = np.percentile(datacolumn , [25,75])\n",
    " IQR = Q3-Q1\n",
    " lower_range = Q1 - (1.5 * IQR)\n",
    " upper_range = Q3 + (1.5 * IQR)\n",
    " return lower_range,upper_range"
   ]
  },
  {
   "cell_type": "code",
   "execution_count": 59,
   "id": "4efe2a6d",
   "metadata": {},
   "outputs": [
    {
     "data": {
      "text/html": [
       "<div>\n",
       "<style scoped>\n",
       "    .dataframe tbody tr th:only-of-type {\n",
       "        vertical-align: middle;\n",
       "    }\n",
       "\n",
       "    .dataframe tbody tr th {\n",
       "        vertical-align: top;\n",
       "    }\n",
       "\n",
       "    .dataframe thead th {\n",
       "        text-align: right;\n",
       "    }\n",
       "</style>\n",
       "<table border=\"1\" class=\"dataframe\">\n",
       "  <thead>\n",
       "    <tr style=\"text-align: right;\">\n",
       "      <th></th>\n",
       "      <th>ID</th>\n",
       "      <th>Dept_name</th>\n",
       "      <th>location</th>\n",
       "      <th>travel_required</th>\n",
       "      <th>Experience_Years</th>\n",
       "      <th>Age</th>\n",
       "      <th>Gender</th>\n",
       "      <th>Salary</th>\n",
       "    </tr>\n",
       "  </thead>\n",
       "  <tbody>\n",
       "    <tr>\n",
       "      <th>33</th>\n",
       "      <td>28</td>\n",
       "      <td>HR</td>\n",
       "      <td>Bangalore</td>\n",
       "      <td>NaN</td>\n",
       "      <td>27</td>\n",
       "      <td>62</td>\n",
       "      <td>Female</td>\n",
       "      <td>10000000</td>\n",
       "    </tr>\n",
       "    <tr>\n",
       "      <th>39</th>\n",
       "      <td>34</td>\n",
       "      <td>HR</td>\n",
       "      <td>Bangalore</td>\n",
       "      <td>yes</td>\n",
       "      <td>19</td>\n",
       "      <td>53</td>\n",
       "      <td>Female</td>\n",
       "      <td>9300000</td>\n",
       "    </tr>\n",
       "  </tbody>\n",
       "</table>\n",
       "</div>"
      ],
      "text/plain": [
       "    ID Dept_name   location travel_required  Experience_Years  Age  Gender  \\\n",
       "33  28        HR  Bangalore             NaN                27   62  Female   \n",
       "39  34        HR  Bangalore             yes                19   53  Female   \n",
       "\n",
       "      Salary  \n",
       "33  10000000  \n",
       "39   9300000  "
      ]
     },
     "execution_count": 59,
     "metadata": {},
     "output_type": "execute_result"
    }
   ],
   "source": [
    "l,u=outlier_treatment(df.Salary)\n",
    "df[(df.Salary < l) | (df.Salary > u)]"
   ]
  },
  {
   "cell_type": "code",
   "execution_count": 60,
   "id": "38d376fd",
   "metadata": {},
   "outputs": [
    {
     "data": {
      "text/html": [
       "<div>\n",
       "<style scoped>\n",
       "    .dataframe tbody tr th:only-of-type {\n",
       "        vertical-align: middle;\n",
       "    }\n",
       "\n",
       "    .dataframe tbody tr th {\n",
       "        vertical-align: top;\n",
       "    }\n",
       "\n",
       "    .dataframe thead th {\n",
       "        text-align: right;\n",
       "    }\n",
       "</style>\n",
       "<table border=\"1\" class=\"dataframe\">\n",
       "  <thead>\n",
       "    <tr style=\"text-align: right;\">\n",
       "      <th></th>\n",
       "      <th>ID</th>\n",
       "      <th>Dept_name</th>\n",
       "      <th>location</th>\n",
       "      <th>travel_required</th>\n",
       "      <th>Experience_Years</th>\n",
       "      <th>Age</th>\n",
       "      <th>Gender</th>\n",
       "      <th>Salary</th>\n",
       "    </tr>\n",
       "  </thead>\n",
       "  <tbody>\n",
       "    <tr>\n",
       "      <th>1</th>\n",
       "      <td>2</td>\n",
       "      <td>Finance</td>\n",
       "      <td>Bangalore</td>\n",
       "      <td>no</td>\n",
       "      <td>1</td>\n",
       "      <td>521</td>\n",
       "      <td>Male</td>\n",
       "      <td>50000</td>\n",
       "    </tr>\n",
       "    <tr>\n",
       "      <th>17</th>\n",
       "      <td>15</td>\n",
       "      <td>Tech</td>\n",
       "      <td>Mumbai</td>\n",
       "      <td>yes</td>\n",
       "      <td>2</td>\n",
       "      <td>800</td>\n",
       "      <td>Male</td>\n",
       "      <td>7500</td>\n",
       "    </tr>\n",
       "    <tr>\n",
       "      <th>40</th>\n",
       "      <td>35</td>\n",
       "      <td>Tech</td>\n",
       "      <td>Bangalore</td>\n",
       "      <td>no</td>\n",
       "      <td>16</td>\n",
       "      <td>900</td>\n",
       "      <td>Male</td>\n",
       "      <td>7600000</td>\n",
       "    </tr>\n",
       "  </tbody>\n",
       "</table>\n",
       "</div>"
      ],
      "text/plain": [
       "    ID Dept_name   location travel_required  Experience_Years  Age Gender  \\\n",
       "1    2   Finance  Bangalore              no                 1  521   Male   \n",
       "17  15      Tech     Mumbai             yes                 2  800   Male   \n",
       "40  35      Tech  Bangalore              no                16  900   Male   \n",
       "\n",
       "     Salary  \n",
       "1     50000  \n",
       "17     7500  \n",
       "40  7600000  "
      ]
     },
     "execution_count": 60,
     "metadata": {},
     "output_type": "execute_result"
    }
   ],
   "source": [
    "l,u=outlier_treatment(df.Age)\n",
    "df[(df.Age < l) | (df.Age > u)]"
   ]
  },
  {
   "cell_type": "code",
   "execution_count": 61,
   "id": "55a8f804",
   "metadata": {},
   "outputs": [
    {
     "data": {
      "text/plain": [
       "array([[<AxesSubplot:title={'center':'ID'}>,\n",
       "        <AxesSubplot:title={'center':'Experience_Years'}>],\n",
       "       [<AxesSubplot:title={'center':'Age'}>,\n",
       "        <AxesSubplot:title={'center':'Salary'}>]], dtype=object)"
      ]
     },
     "execution_count": 61,
     "metadata": {},
     "output_type": "execute_result"
    },
    {
     "data": {
      "image/png": "[encoded data removed]",
      "text/plain": [
       "<Figure size 432x288 with 4 Axes>"
      ]
     },
     "metadata": {
      "needs_background": "light"
     },
     "output_type": "display_data"
    }
   ],
   "source": [
    "df.hist()"
   ]
  },
  {
   "cell_type": "code",
   "execution_count": 62,
   "id": "bbf2643c",
   "metadata": {},
   "outputs": [],
   "source": [
    "#Remove outliers\n",
    "df.drop(df[(df.Age < l) | (df.Age > u)].index,inplace=True)"
   ]
  },
  {
   "cell_type": "code",
   "execution_count": 63,
   "id": "26a76617",
   "metadata": {},
   "outputs": [
    {
     "data": {
      "text/plain": [
       "(32, 8)"
      ]
     },
     "execution_count": 63,
     "metadata": {},
     "output_type": "execute_result"
    }
   ],
   "source": [
    "df.shape"
   ]
  },
  {
   "cell_type": "code",
   "execution_count": 64,
   "id": "714e6d9b",
   "metadata": {},
   "outputs": [
    {
     "data": {
      "text/html": [
       "<div>\n",
       "<style scoped>\n",
       "    .dataframe tbody tr th:only-of-type {\n",
       "        vertical-align: middle;\n",
       "    }\n",
       "\n",
       "    .dataframe tbody tr th {\n",
       "        vertical-align: top;\n",
       "    }\n",
       "\n",
       "    .dataframe thead th {\n",
       "        text-align: right;\n",
       "    }\n",
       "</style>\n",
       "<table border=\"1\" class=\"dataframe\">\n",
       "  <thead>\n",
       "    <tr style=\"text-align: right;\">\n",
       "      <th></th>\n",
       "      <th>ID</th>\n",
       "      <th>Experience_Years</th>\n",
       "      <th>Age</th>\n",
       "      <th>Salary</th>\n",
       "    </tr>\n",
       "  </thead>\n",
       "  <tbody>\n",
       "    <tr>\n",
       "      <th>count</th>\n",
       "      <td>32.000000</td>\n",
       "      <td>32.000000</td>\n",
       "      <td>32.000000</td>\n",
       "      <td>3.200000e+01</td>\n",
       "    </tr>\n",
       "    <tr>\n",
       "      <th>mean</th>\n",
       "      <td>18.062500</td>\n",
       "      <td>9.468750</td>\n",
       "      <td>35.906250</td>\n",
       "      <td>2.012895e+06</td>\n",
       "    </tr>\n",
       "    <tr>\n",
       "      <th>std</th>\n",
       "      <td>9.863381</td>\n",
       "      <td>7.560442</td>\n",
       "      <td>14.741557</td>\n",
       "      <td>3.124687e+06</td>\n",
       "    </tr>\n",
       "    <tr>\n",
       "      <th>min</th>\n",
       "      <td>1.000000</td>\n",
       "      <td>1.000000</td>\n",
       "      <td>17.000000</td>\n",
       "      <td>3.000000e+03</td>\n",
       "    </tr>\n",
       "    <tr>\n",
       "      <th>25%</th>\n",
       "      <td>9.750000</td>\n",
       "      <td>3.000000</td>\n",
       "      <td>22.750000</td>\n",
       "      <td>2.375000e+04</td>\n",
       "    </tr>\n",
       "    <tr>\n",
       "      <th>50%</th>\n",
       "      <td>18.500000</td>\n",
       "      <td>8.000000</td>\n",
       "      <td>31.500000</td>\n",
       "      <td>2.500000e+05</td>\n",
       "    </tr>\n",
       "    <tr>\n",
       "      <th>75%</th>\n",
       "      <td>26.250000</td>\n",
       "      <td>15.000000</td>\n",
       "      <td>54.000000</td>\n",
       "      <td>2.405000e+06</td>\n",
       "    </tr>\n",
       "    <tr>\n",
       "      <th>max</th>\n",
       "      <td>34.000000</td>\n",
       "      <td>27.000000</td>\n",
       "      <td>62.000000</td>\n",
       "      <td>1.000000e+07</td>\n",
       "    </tr>\n",
       "  </tbody>\n",
       "</table>\n",
       "</div>"
      ],
      "text/plain": [
       "              ID  Experience_Years        Age        Salary\n",
       "count  32.000000         32.000000  32.000000  3.200000e+01\n",
       "mean   18.062500          9.468750  35.906250  2.012895e+06\n",
       "std     9.863381          7.560442  14.741557  3.124687e+06\n",
       "min     1.000000          1.000000  17.000000  3.000000e+03\n",
       "25%     9.750000          3.000000  22.750000  2.375000e+04\n",
       "50%    18.500000          8.000000  31.500000  2.500000e+05\n",
       "75%    26.250000         15.000000  54.000000  2.405000e+06\n",
       "max    34.000000         27.000000  62.000000  1.000000e+07"
      ]
     },
     "execution_count": 64,
     "metadata": {},
     "output_type": "execute_result"
    }
   ],
   "source": [
    "df.describe()"
   ]
  },
  {
   "cell_type": "code",
   "execution_count": 65,
   "id": "584a2f50",
   "metadata": {},
   "outputs": [],
   "source": [
    "df.drop(['ID'],inplace=True,axis=1)"
   ]
  },
  {
   "cell_type": "code",
   "execution_count": 66,
   "id": "a7bdfb72",
   "metadata": {},
   "outputs": [
    {
     "data": {
      "text/plain": [
       "(32, 7)"
      ]
     },
     "execution_count": 66,
     "metadata": {},
     "output_type": "execute_result"
    }
   ],
   "source": [
    "df.shape"
   ]
  },
  {
   "cell_type": "code",
   "execution_count": 67,
   "id": "c8bd4fe6",
   "metadata": {},
   "outputs": [
    {
     "data": {
      "text/plain": [
       "Dept_name           0\n",
       "location            0\n",
       "travel_required     5\n",
       "Experience_Years    0\n",
       "Age                 0\n",
       "Gender              0\n",
       "Salary              0\n",
       "dtype: int64"
      ]
     },
     "execution_count": 67,
     "metadata": {},
     "output_type": "execute_result"
    }
   ],
   "source": [
    "df.isnull().sum()"
   ]
  },
  {
   "cell_type": "code",
   "execution_count": 68,
   "id": "4b16b52c",
   "metadata": {},
   "outputs": [
    {
     "data": {
      "text/plain": [
       "Bangalore    11\n",
       "Mumbai       11\n",
       "Pune         10\n",
       "Name: location, dtype: int64"
      ]
     },
     "execution_count": 68,
     "metadata": {},
     "output_type": "execute_result"
    }
   ],
   "source": [
    "df['location'].value_counts()"
   ]
  },
  {
   "cell_type": "code",
   "execution_count": 69,
   "id": "a022fda8",
   "metadata": {},
   "outputs": [
    {
     "data": {
      "text/plain": [
       "Female    18\n",
       "Male      14\n",
       "Name: Gender, dtype: int64"
      ]
     },
     "execution_count": 69,
     "metadata": {},
     "output_type": "execute_result"
    }
   ],
   "source": [
    "df['Gender'].value_counts()"
   ]
  },
  {
   "cell_type": "code",
   "execution_count": 70,
   "id": "4086b068",
   "metadata": {},
   "outputs": [
    {
     "data": {
      "text/plain": [
       "HR         12\n",
       "Tech        9\n",
       "Finance     8\n",
       "tech        2\n",
       "TECH        1\n",
       "Name: Dept_name, dtype: int64"
      ]
     },
     "execution_count": 70,
     "metadata": {},
     "output_type": "execute_result"
    }
   ],
   "source": [
    "df['Dept_name'].value_counts()"
   ]
  },
  {
   "cell_type": "code",
   "execution_count": 71,
   "id": "d5a8834e",
   "metadata": {},
   "outputs": [],
   "source": [
    "df['Dept_name'].replace({'tech':'Tech', 'TECH':'Tech'}, inplace=True)"
   ]
  },
  {
   "cell_type": "code",
   "execution_count": 72,
   "id": "f9137a99",
   "metadata": {},
   "outputs": [
    {
     "data": {
      "text/plain": [
       "HR         12\n",
       "Tech       12\n",
       "Finance     8\n",
       "Name: Dept_name, dtype: int64"
      ]
     },
     "execution_count": 72,
     "metadata": {},
     "output_type": "execute_result"
    }
   ],
   "source": [
    "df['Dept_name'].value_counts()"
   ]
  },
  {
   "cell_type": "code",
   "execution_count": 74,
   "id": "2847db6f",
   "metadata": {},
   "outputs": [],
   "source": [
    "# Handle missing values\n",
    "\n",
    "df['travel_required'].replace(np.NaN, df['travel_required'].mode()[0],inplace=True)"
   ]
  },
  {
   "cell_type": "code",
   "execution_count": 75,
   "id": "eed26939",
   "metadata": {},
   "outputs": [
    {
     "data": {
      "text/plain": [
       "Dept_name           0\n",
       "location            0\n",
       "travel_required     0\n",
       "Experience_Years    0\n",
       "Age                 0\n",
       "Gender              0\n",
       "Salary              0\n",
       "dtype: int64"
      ]
     },
     "execution_count": 75,
     "metadata": {},
     "output_type": "execute_result"
    }
   ],
   "source": [
    "df.isnull().sum()"
   ]
  },
  {
   "cell_type": "code",
   "execution_count": 79,
   "id": "2a949efa",
   "metadata": {},
   "outputs": [],
   "source": [
    "df1=df"
   ]
  },
  {
   "cell_type": "code",
   "execution_count": 76,
   "id": "2af0fba9",
   "metadata": {},
   "outputs": [],
   "source": [
    "#Normalizing or Scaling using MinMax Scaler\n",
    "from sklearn.preprocessing import MinMaxScaler\n",
    "MMscaler=MinMaxScaler()"
   ]
  },
  {
   "cell_type": "code",
   "execution_count": 83,
   "id": "96d243bb",
   "metadata": {},
   "outputs": [],
   "source": [
    "df_ncol= df.select_dtypes(exclude=['object'])\n"
   ]
  },
  {
   "cell_type": "code",
   "execution_count": 84,
   "id": "b99b6367",
   "metadata": {},
   "outputs": [
    {
     "data": {
      "text/plain": [
       "Index(['Experience_Years', 'Age', 'Salary'], dtype='object')"
      ]
     },
     "execution_count": 84,
     "metadata": {},
     "output_type": "execute_result"
    }
   ],
   "source": [
    "df_ncol.columns"
   ]
  },
  {
   "cell_type": "code",
   "execution_count": 88,
   "id": "3ffd2473",
   "metadata": {},
   "outputs": [],
   "source": [
    "cols_toscale= df_ncol.columns\n",
    "df1[cols_toscale]=  MMscaler.fit_transform(df[cols_toscale])"
   ]
  },
  {
   "cell_type": "code",
   "execution_count": 89,
   "id": "0adead24",
   "metadata": {},
   "outputs": [
    {
     "data": {
      "text/html": [
       "<div>\n",
       "<style scoped>\n",
       "    .dataframe tbody tr th:only-of-type {\n",
       "        vertical-align: middle;\n",
       "    }\n",
       "\n",
       "    .dataframe tbody tr th {\n",
       "        vertical-align: top;\n",
       "    }\n",
       "\n",
       "    .dataframe thead th {\n",
       "        text-align: right;\n",
       "    }\n",
       "</style>\n",
       "<table border=\"1\" class=\"dataframe\">\n",
       "  <thead>\n",
       "    <tr style=\"text-align: right;\">\n",
       "      <th></th>\n",
       "      <th>Dept_name</th>\n",
       "      <th>location</th>\n",
       "      <th>travel_required</th>\n",
       "      <th>Experience_Years</th>\n",
       "      <th>Age</th>\n",
       "      <th>Gender</th>\n",
       "      <th>Salary</th>\n",
       "    </tr>\n",
       "  </thead>\n",
       "  <tbody>\n",
       "    <tr>\n",
       "      <th>0</th>\n",
       "      <td>HR</td>\n",
       "      <td>Pune</td>\n",
       "      <td>yes</td>\n",
       "      <td>0.153846</td>\n",
       "      <td>0.244444</td>\n",
       "      <td>Female</td>\n",
       "      <td>0.024707</td>\n",
       "    </tr>\n",
       "    <tr>\n",
       "      <th>2</th>\n",
       "      <td>Finance</td>\n",
       "      <td>Bangalore</td>\n",
       "      <td>no</td>\n",
       "      <td>0.076923</td>\n",
       "      <td>0.133333</td>\n",
       "      <td>Female</td>\n",
       "      <td>0.016705</td>\n",
       "    </tr>\n",
       "    <tr>\n",
       "      <th>3</th>\n",
       "      <td>Finance</td>\n",
       "      <td>Pune</td>\n",
       "      <td>no</td>\n",
       "      <td>0.038462</td>\n",
       "      <td>0.111111</td>\n",
       "      <td>Male</td>\n",
       "      <td>0.002201</td>\n",
       "    </tr>\n",
       "    <tr>\n",
       "      <th>4</th>\n",
       "      <td>Tech</td>\n",
       "      <td>Mumbai</td>\n",
       "      <td>no</td>\n",
       "      <td>0.000000</td>\n",
       "      <td>0.000000</td>\n",
       "      <td>Male</td>\n",
       "      <td>0.000700</td>\n",
       "    </tr>\n",
       "    <tr>\n",
       "      <th>5</th>\n",
       "      <td>Tech</td>\n",
       "      <td>Pune</td>\n",
       "      <td>no</td>\n",
       "      <td>0.923077</td>\n",
       "      <td>1.000000</td>\n",
       "      <td>Male</td>\n",
       "      <td>0.499950</td>\n",
       "    </tr>\n",
       "  </tbody>\n",
       "</table>\n",
       "</div>"
      ],
      "text/plain": [
       "  Dept_name   location travel_required  Experience_Years       Age  Gender  \\\n",
       "0        HR       Pune             yes          0.153846  0.244444  Female   \n",
       "2   Finance  Bangalore              no          0.076923  0.133333  Female   \n",
       "3   Finance       Pune              no          0.038462  0.111111    Male   \n",
       "4      Tech     Mumbai              no          0.000000  0.000000    Male   \n",
       "5      Tech       Pune              no          0.923077  1.000000    Male   \n",
       "\n",
       "     Salary  \n",
       "0  0.024707  \n",
       "2  0.016705  \n",
       "3  0.002201  \n",
       "4  0.000700  \n",
       "5  0.499950  "
      ]
     },
     "execution_count": 89,
     "metadata": {},
     "output_type": "execute_result"
    }
   ],
   "source": [
    "df1.head()"
   ]
  },
  {
   "cell_type": "code",
   "execution_count": 90,
   "id": "caeb0a2d",
   "metadata": {},
   "outputs": [
    {
     "data": {
      "text/plain": [
       "Dept_name            object\n",
       "location             object\n",
       "travel_required      object\n",
       "Experience_Years    float64\n",
       "Age                 float64\n",
       "Gender               object\n",
       "Salary              float64\n",
       "dtype: object"
      ]
     },
     "execution_count": 90,
     "metadata": {},
     "output_type": "execute_result"
    }
   ],
   "source": [
    "df1.dtypes"
   ]
  },
  {
   "cell_type": "code",
   "execution_count": null,
   "id": "4e5bd101",
   "metadata": {},
   "outputs": [],
   "source": []
  }
 ],
 "metadata": {
  "kernelspec": {
   "display_name": "Python 3 (ipykernel)",
   "language": "python",
   "name": "python3"
  },
  "language_info": {
   "codemirror_mode": {
    "name": "ipython",
    "version": 3
   },
   "file_extension": ".py",
   "mimetype": "text/x-python",
   "name": "python",
   "nbconvert_exporter": "python",
   "pygments_lexer": "ipython3",
   "version": "3.9.7"
  }
 },
 "nbformat": 4,
 "nbformat_minor": 5
}
